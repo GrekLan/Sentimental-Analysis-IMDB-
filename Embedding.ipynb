{
 "cells": [
  {
   "cell_type": "code",
   "execution_count": 1,
   "metadata": {},
   "outputs": [],
   "source": [
    "from tensorflow.keras.preprocessing.text import one_hot"
   ]
  },
  {
   "cell_type": "code",
   "execution_count": 2,
   "metadata": {},
   "outputs": [],
   "source": [
    "### sentences\n",
    "sent=[  'the glass of milk',\n",
    "     'the glass of juice',\n",
    "     'the cup of tea',\n",
    "    'I am a good boy',\n",
    "     'I am a good developer',\n",
    "     'understand the meaning of words',\n",
    "     'your videos are good',]"
   ]
  },
  {
   "cell_type": "code",
   "execution_count": 3,
   "metadata": {},
   "outputs": [],
   "source": [
    "## Define the vocabulary size\n",
    "voc_size=10000"
   ]
  },
  {
   "cell_type": "code",
   "execution_count": 4,
   "metadata": {},
   "outputs": [
    {
     "data": {
      "text/plain": [
       "[[371, 3426, 2054, 2638],\n",
       " [371, 3426, 2054, 42],\n",
       " [371, 2176, 2054, 2303],\n",
       " [6922, 6599, 8419, 25, 6515],\n",
       " [6922, 6599, 8419, 25, 2279],\n",
       " [4217, 371, 2612, 2054, 4883],\n",
       " [6372, 5235, 3578, 25]]"
      ]
     },
     "execution_count": 4,
     "metadata": {},
     "output_type": "execute_result"
    }
   ],
   "source": [
    "### One Hot Representation\n",
    "one_hot_repr=[one_hot(words,voc_size)for words in sent]\n",
    "one_hot_repr"
   ]
  },
  {
   "cell_type": "code",
   "execution_count": 5,
   "metadata": {},
   "outputs": [],
   "source": [
    "## word Embedding Representation\n",
    "\n",
    "from tensorflow.keras.layers import Embedding\n",
    "#from tensorflow.keras.processing.sequence import pad_sequences\n",
    "from tensorflow.keras.utils import pad_sequences\n",
    "from tensorflow.keras.models import Sequential"
   ]
  },
  {
   "cell_type": "code",
   "execution_count": 6,
   "metadata": {},
   "outputs": [],
   "source": [
    "import numpy as np"
   ]
  },
  {
   "cell_type": "code",
   "execution_count": 7,
   "metadata": {},
   "outputs": [
    {
     "name": "stdout",
     "output_type": "stream",
     "text": [
      "[[   0    0    0    0  371 3426 2054 2638]\n",
      " [   0    0    0    0  371 3426 2054   42]\n",
      " [   0    0    0    0  371 2176 2054 2303]\n",
      " [   0    0    0 6922 6599 8419   25 6515]\n",
      " [   0    0    0 6922 6599 8419   25 2279]\n",
      " [   0    0    0 4217  371 2612 2054 4883]\n",
      " [   0    0    0    0 6372 5235 3578   25]]\n"
     ]
    }
   ],
   "source": [
    "sent_length=8\n",
    "embedded_docs=pad_sequences(one_hot_repr,padding='pre',maxlen=sent_length)\n",
    "print(embedded_docs)"
   ]
  },
  {
   "cell_type": "code",
   "execution_count": 8,
   "metadata": {},
   "outputs": [],
   "source": [
    "## feature representation\n",
    "dim=10"
   ]
  },
  {
   "cell_type": "code",
   "execution_count": 9,
   "metadata": {},
   "outputs": [
    {
     "name": "stderr",
     "output_type": "stream",
     "text": [
      "d:\\PROJECTS\\Simple-Rnn (IMDB)\\myvenv\\Lib\\site-packages\\keras\\src\\layers\\core\\embedding.py:90: UserWarning: Argument `input_length` is deprecated. Just remove it.\n",
      "  warnings.warn(\n"
     ]
    }
   ],
   "source": [
    "model=Sequential()\n",
    "model.add(Embedding(voc_size,dim,input_length=sent_length))\n",
    "model.compile('adam','mse')"
   ]
  },
  {
   "cell_type": "code",
   "execution_count": 10,
   "metadata": {},
   "outputs": [
    {
     "data": {
      "text/html": [
       "<pre style=\"white-space:pre;overflow-x:auto;line-height:normal;font-family:Menlo,'DejaVu Sans Mono',consolas,'Courier New',monospace\"><span style=\"font-weight: bold\">Model: \"sequential\"</span>\n",
       "</pre>\n"
      ],
      "text/plain": [
       "\u001b[1mModel: \"sequential\"\u001b[0m\n"
      ]
     },
     "metadata": {},
     "output_type": "display_data"
    },
    {
     "data": {
      "text/html": [
       "<pre style=\"white-space:pre;overflow-x:auto;line-height:normal;font-family:Menlo,'DejaVu Sans Mono',consolas,'Courier New',monospace\">┏━━━━━━━━━━━━━━━━━━━━━━━━━━━━━━━━━┳━━━━━━━━━━━━━━━━━━━━━━━━┳━━━━━━━━━━━━━━━┓\n",
       "┃<span style=\"font-weight: bold\"> Layer (type)                    </span>┃<span style=\"font-weight: bold\"> Output Shape           </span>┃<span style=\"font-weight: bold\">       Param # </span>┃\n",
       "┡━━━━━━━━━━━━━━━━━━━━━━━━━━━━━━━━━╇━━━━━━━━━━━━━━━━━━━━━━━━╇━━━━━━━━━━━━━━━┩\n",
       "│ embedding (<span style=\"color: #0087ff; text-decoration-color: #0087ff\">Embedding</span>)           │ ?                      │   <span style=\"color: #00af00; text-decoration-color: #00af00\">0</span> (unbuilt) │\n",
       "└─────────────────────────────────┴────────────────────────┴───────────────┘\n",
       "</pre>\n"
      ],
      "text/plain": [
       "┏━━━━━━━━━━━━━━━━━━━━━━━━━━━━━━━━━┳━━━━━━━━━━━━━━━━━━━━━━━━┳━━━━━━━━━━━━━━━┓\n",
       "┃\u001b[1m \u001b[0m\u001b[1mLayer (type)                   \u001b[0m\u001b[1m \u001b[0m┃\u001b[1m \u001b[0m\u001b[1mOutput Shape          \u001b[0m\u001b[1m \u001b[0m┃\u001b[1m \u001b[0m\u001b[1m      Param #\u001b[0m\u001b[1m \u001b[0m┃\n",
       "┡━━━━━━━━━━━━━━━━━━━━━━━━━━━━━━━━━╇━━━━━━━━━━━━━━━━━━━━━━━━╇━━━━━━━━━━━━━━━┩\n",
       "│ embedding (\u001b[38;5;33mEmbedding\u001b[0m)           │ ?                      │   \u001b[38;5;34m0\u001b[0m (unbuilt) │\n",
       "└─────────────────────────────────┴────────────────────────┴───────────────┘\n"
      ]
     },
     "metadata": {},
     "output_type": "display_data"
    },
    {
     "data": {
      "text/html": [
       "<pre style=\"white-space:pre;overflow-x:auto;line-height:normal;font-family:Menlo,'DejaVu Sans Mono',consolas,'Courier New',monospace\"><span style=\"font-weight: bold\"> Total params: </span><span style=\"color: #00af00; text-decoration-color: #00af00\">0</span> (0.00 B)\n",
       "</pre>\n"
      ],
      "text/plain": [
       "\u001b[1m Total params: \u001b[0m\u001b[38;5;34m0\u001b[0m (0.00 B)\n"
      ]
     },
     "metadata": {},
     "output_type": "display_data"
    },
    {
     "data": {
      "text/html": [
       "<pre style=\"white-space:pre;overflow-x:auto;line-height:normal;font-family:Menlo,'DejaVu Sans Mono',consolas,'Courier New',monospace\"><span style=\"font-weight: bold\"> Trainable params: </span><span style=\"color: #00af00; text-decoration-color: #00af00\">0</span> (0.00 B)\n",
       "</pre>\n"
      ],
      "text/plain": [
       "\u001b[1m Trainable params: \u001b[0m\u001b[38;5;34m0\u001b[0m (0.00 B)\n"
      ]
     },
     "metadata": {},
     "output_type": "display_data"
    },
    {
     "data": {
      "text/html": [
       "<pre style=\"white-space:pre;overflow-x:auto;line-height:normal;font-family:Menlo,'DejaVu Sans Mono',consolas,'Courier New',monospace\"><span style=\"font-weight: bold\"> Non-trainable params: </span><span style=\"color: #00af00; text-decoration-color: #00af00\">0</span> (0.00 B)\n",
       "</pre>\n"
      ],
      "text/plain": [
       "\u001b[1m Non-trainable params: \u001b[0m\u001b[38;5;34m0\u001b[0m (0.00 B)\n"
      ]
     },
     "metadata": {},
     "output_type": "display_data"
    }
   ],
   "source": [
    "model.summary()"
   ]
  },
  {
   "cell_type": "code",
   "execution_count": 11,
   "metadata": {},
   "outputs": [
    {
     "name": "stdout",
     "output_type": "stream",
     "text": [
      "\u001b[1m1/1\u001b[0m \u001b[32m━━━━━━━━━━━━━━━━━━━━\u001b[0m\u001b[37m\u001b[0m \u001b[1m3s\u001b[0m 3s/step\n"
     ]
    },
    {
     "data": {
      "text/plain": [
       "array([[[-0.02937231,  0.04359505, -0.03174065, -0.02350891,\n",
       "          0.03382076, -0.04703964,  0.00410317, -0.03856061,\n",
       "         -0.03355497,  0.02596149],\n",
       "        [-0.02937231,  0.04359505, -0.03174065, -0.02350891,\n",
       "          0.03382076, -0.04703964,  0.00410317, -0.03856061,\n",
       "         -0.03355497,  0.02596149],\n",
       "        [-0.02937231,  0.04359505, -0.03174065, -0.02350891,\n",
       "          0.03382076, -0.04703964,  0.00410317, -0.03856061,\n",
       "         -0.03355497,  0.02596149],\n",
       "        [-0.02937231,  0.04359505, -0.03174065, -0.02350891,\n",
       "          0.03382076, -0.04703964,  0.00410317, -0.03856061,\n",
       "         -0.03355497,  0.02596149],\n",
       "        [-0.01620865, -0.02830802, -0.01258862,  0.01708538,\n",
       "         -0.04604096, -0.00322694,  0.00600165, -0.04178758,\n",
       "          0.01277746, -0.0226709 ],\n",
       "        [ 0.03522165, -0.01408192,  0.01697353,  0.04213086,\n",
       "         -0.00784278,  0.00935478,  0.01684341, -0.03643844,\n",
       "         -0.0293828 , -0.00453486],\n",
       "        [ 0.00372338, -0.03115822,  0.02588085, -0.02091157,\n",
       "         -0.04778155,  0.00712013,  0.02347726,  0.03627754,\n",
       "         -0.02478633,  0.01239407],\n",
       "        [-0.02958435,  0.03818386,  0.04275978, -0.01725613,\n",
       "          0.0399161 ,  0.04793419,  0.01410092, -0.04039291,\n",
       "         -0.01004757,  0.02640233]],\n",
       "\n",
       "       [[-0.02937231,  0.04359505, -0.03174065, -0.02350891,\n",
       "          0.03382076, -0.04703964,  0.00410317, -0.03856061,\n",
       "         -0.03355497,  0.02596149],\n",
       "        [-0.02937231,  0.04359505, -0.03174065, -0.02350891,\n",
       "          0.03382076, -0.04703964,  0.00410317, -0.03856061,\n",
       "         -0.03355497,  0.02596149],\n",
       "        [-0.02937231,  0.04359505, -0.03174065, -0.02350891,\n",
       "          0.03382076, -0.04703964,  0.00410317, -0.03856061,\n",
       "         -0.03355497,  0.02596149],\n",
       "        [-0.02937231,  0.04359505, -0.03174065, -0.02350891,\n",
       "          0.03382076, -0.04703964,  0.00410317, -0.03856061,\n",
       "         -0.03355497,  0.02596149],\n",
       "        [-0.01620865, -0.02830802, -0.01258862,  0.01708538,\n",
       "         -0.04604096, -0.00322694,  0.00600165, -0.04178758,\n",
       "          0.01277746, -0.0226709 ],\n",
       "        [ 0.03522165, -0.01408192,  0.01697353,  0.04213086,\n",
       "         -0.00784278,  0.00935478,  0.01684341, -0.03643844,\n",
       "         -0.0293828 , -0.00453486],\n",
       "        [ 0.00372338, -0.03115822,  0.02588085, -0.02091157,\n",
       "         -0.04778155,  0.00712013,  0.02347726,  0.03627754,\n",
       "         -0.02478633,  0.01239407],\n",
       "        [ 0.00995459, -0.02024894, -0.00520797,  0.02947464,\n",
       "          0.00556426,  0.00342376,  0.00666864, -0.04135432,\n",
       "          0.04579071, -0.03038254]],\n",
       "\n",
       "       [[-0.02937231,  0.04359505, -0.03174065, -0.02350891,\n",
       "          0.03382076, -0.04703964,  0.00410317, -0.03856061,\n",
       "         -0.03355497,  0.02596149],\n",
       "        [-0.02937231,  0.04359505, -0.03174065, -0.02350891,\n",
       "          0.03382076, -0.04703964,  0.00410317, -0.03856061,\n",
       "         -0.03355497,  0.02596149],\n",
       "        [-0.02937231,  0.04359505, -0.03174065, -0.02350891,\n",
       "          0.03382076, -0.04703964,  0.00410317, -0.03856061,\n",
       "         -0.03355497,  0.02596149],\n",
       "        [-0.02937231,  0.04359505, -0.03174065, -0.02350891,\n",
       "          0.03382076, -0.04703964,  0.00410317, -0.03856061,\n",
       "         -0.03355497,  0.02596149],\n",
       "        [-0.01620865, -0.02830802, -0.01258862,  0.01708538,\n",
       "         -0.04604096, -0.00322694,  0.00600165, -0.04178758,\n",
       "          0.01277746, -0.0226709 ],\n",
       "        [-0.02169045, -0.00195805,  0.02700788,  0.01179007,\n",
       "          0.03838921,  0.04211429, -0.00185716, -0.02959248,\n",
       "         -0.03163991, -0.04439571],\n",
       "        [ 0.00372338, -0.03115822,  0.02588085, -0.02091157,\n",
       "         -0.04778155,  0.00712013,  0.02347726,  0.03627754,\n",
       "         -0.02478633,  0.01239407],\n",
       "        [-0.0015785 ,  0.02949208, -0.02577647,  0.00335549,\n",
       "         -0.04493752, -0.01144537, -0.02348111,  0.04856468,\n",
       "         -0.00108486,  0.01952459]],\n",
       "\n",
       "       [[-0.02937231,  0.04359505, -0.03174065, -0.02350891,\n",
       "          0.03382076, -0.04703964,  0.00410317, -0.03856061,\n",
       "         -0.03355497,  0.02596149],\n",
       "        [-0.02937231,  0.04359505, -0.03174065, -0.02350891,\n",
       "          0.03382076, -0.04703964,  0.00410317, -0.03856061,\n",
       "         -0.03355497,  0.02596149],\n",
       "        [-0.02937231,  0.04359505, -0.03174065, -0.02350891,\n",
       "          0.03382076, -0.04703964,  0.00410317, -0.03856061,\n",
       "         -0.03355497,  0.02596149],\n",
       "        [-0.01427286,  0.02796391,  0.02731157,  0.00714285,\n",
       "          0.00642058, -0.0078192 ,  0.03606254,  0.01789942,\n",
       "          0.02455038, -0.04894725],\n",
       "        [-0.01489085, -0.03764995,  0.00624459, -0.03578664,\n",
       "         -0.00504019, -0.01172381, -0.03581113,  0.03204181,\n",
       "         -0.01752625,  0.00628805],\n",
       "        [-0.01485769,  0.03004659,  0.00982083, -0.02470793,\n",
       "         -0.02113193,  0.03178142,  0.02340991, -0.02292809,\n",
       "          0.01355528,  0.00981005],\n",
       "        [ 0.04101234,  0.01613451, -0.001957  , -0.00998416,\n",
       "         -0.00445346,  0.04144006, -0.00076635,  0.02950803,\n",
       "         -0.00580936, -0.02440509],\n",
       "        [-0.02114285, -0.0210676 ,  0.0254215 , -0.022516  ,\n",
       "         -0.04566312,  0.02606416, -0.01247497, -0.00599869,\n",
       "         -0.01074381, -0.03884096]],\n",
       "\n",
       "       [[-0.02937231,  0.04359505, -0.03174065, -0.02350891,\n",
       "          0.03382076, -0.04703964,  0.00410317, -0.03856061,\n",
       "         -0.03355497,  0.02596149],\n",
       "        [-0.02937231,  0.04359505, -0.03174065, -0.02350891,\n",
       "          0.03382076, -0.04703964,  0.00410317, -0.03856061,\n",
       "         -0.03355497,  0.02596149],\n",
       "        [-0.02937231,  0.04359505, -0.03174065, -0.02350891,\n",
       "          0.03382076, -0.04703964,  0.00410317, -0.03856061,\n",
       "         -0.03355497,  0.02596149],\n",
       "        [-0.01427286,  0.02796391,  0.02731157,  0.00714285,\n",
       "          0.00642058, -0.0078192 ,  0.03606254,  0.01789942,\n",
       "          0.02455038, -0.04894725],\n",
       "        [-0.01489085, -0.03764995,  0.00624459, -0.03578664,\n",
       "         -0.00504019, -0.01172381, -0.03581113,  0.03204181,\n",
       "         -0.01752625,  0.00628805],\n",
       "        [-0.01485769,  0.03004659,  0.00982083, -0.02470793,\n",
       "         -0.02113193,  0.03178142,  0.02340991, -0.02292809,\n",
       "          0.01355528,  0.00981005],\n",
       "        [ 0.04101234,  0.01613451, -0.001957  , -0.00998416,\n",
       "         -0.00445346,  0.04144006, -0.00076635,  0.02950803,\n",
       "         -0.00580936, -0.02440509],\n",
       "        [ 0.02759676, -0.04461879,  0.04689961,  0.00571387,\n",
       "         -0.01319244, -0.00151874,  0.03827843,  0.0082345 ,\n",
       "          0.03253548,  0.00290812]],\n",
       "\n",
       "       [[-0.02937231,  0.04359505, -0.03174065, -0.02350891,\n",
       "          0.03382076, -0.04703964,  0.00410317, -0.03856061,\n",
       "         -0.03355497,  0.02596149],\n",
       "        [-0.02937231,  0.04359505, -0.03174065, -0.02350891,\n",
       "          0.03382076, -0.04703964,  0.00410317, -0.03856061,\n",
       "         -0.03355497,  0.02596149],\n",
       "        [-0.02937231,  0.04359505, -0.03174065, -0.02350891,\n",
       "          0.03382076, -0.04703964,  0.00410317, -0.03856061,\n",
       "         -0.03355497,  0.02596149],\n",
       "        [-0.03500419,  0.04034397, -0.03619045, -0.00353596,\n",
       "          0.00472941,  0.02695893,  0.00963233, -0.01064068,\n",
       "         -0.01610225,  0.00187419],\n",
       "        [-0.01620865, -0.02830802, -0.01258862,  0.01708538,\n",
       "         -0.04604096, -0.00322694,  0.00600165, -0.04178758,\n",
       "          0.01277746, -0.0226709 ],\n",
       "        [ 0.00546592, -0.00693829, -0.03628261, -0.0135969 ,\n",
       "          0.00806237,  0.0206701 ,  0.02835577, -0.00318808,\n",
       "          0.00245167,  0.00753272],\n",
       "        [ 0.00372338, -0.03115822,  0.02588085, -0.02091157,\n",
       "         -0.04778155,  0.00712013,  0.02347726,  0.03627754,\n",
       "         -0.02478633,  0.01239407],\n",
       "        [-0.00170358, -0.00319952,  0.04405746,  0.0143148 ,\n",
       "         -0.04045295, -0.043116  ,  0.03136562,  0.02830127,\n",
       "         -0.04787743, -0.04407186]],\n",
       "\n",
       "       [[-0.02937231,  0.04359505, -0.03174065, -0.02350891,\n",
       "          0.03382076, -0.04703964,  0.00410317, -0.03856061,\n",
       "         -0.03355497,  0.02596149],\n",
       "        [-0.02937231,  0.04359505, -0.03174065, -0.02350891,\n",
       "          0.03382076, -0.04703964,  0.00410317, -0.03856061,\n",
       "         -0.03355497,  0.02596149],\n",
       "        [-0.02937231,  0.04359505, -0.03174065, -0.02350891,\n",
       "          0.03382076, -0.04703964,  0.00410317, -0.03856061,\n",
       "         -0.03355497,  0.02596149],\n",
       "        [-0.02937231,  0.04359505, -0.03174065, -0.02350891,\n",
       "          0.03382076, -0.04703964,  0.00410317, -0.03856061,\n",
       "         -0.03355497,  0.02596149],\n",
       "        [-0.02927515,  0.00938647,  0.01068405,  0.03113139,\n",
       "         -0.02891462, -0.04905598, -0.01754368,  0.02118904,\n",
       "         -0.03387994,  0.0156119 ],\n",
       "        [-0.01517491,  0.01818207,  0.01408187,  0.03318841,\n",
       "         -0.00778459, -0.00306752, -0.01534756,  0.04222282,\n",
       "         -0.01264156, -0.02421265],\n",
       "        [ 0.04776103, -0.02582558,  0.01508302, -0.03881484,\n",
       "         -0.04831271, -0.01627558, -0.01705636, -0.00753667,\n",
       "          0.02423236, -0.01019166],\n",
       "        [ 0.04101234,  0.01613451, -0.001957  , -0.00998416,\n",
       "         -0.00445346,  0.04144006, -0.00076635,  0.02950803,\n",
       "         -0.00580936, -0.02440509]]], dtype=float32)"
      ]
     },
     "execution_count": 11,
     "metadata": {},
     "output_type": "execute_result"
    }
   ],
   "source": [
    "model.predict(embedded_docs)\n"
   ]
  },
  {
   "cell_type": "code",
   "execution_count": 12,
   "metadata": {},
   "outputs": [
    {
     "data": {
      "text/plain": [
       "array([   0,    0,    0,    0,  371, 3426, 2054, 2638], dtype=int32)"
      ]
     },
     "execution_count": 12,
     "metadata": {},
     "output_type": "execute_result"
    }
   ],
   "source": [
    "embedded_docs[0]"
   ]
  },
  {
   "cell_type": "code",
   "execution_count": 13,
   "metadata": {},
   "outputs": [
    {
     "ename": "ValueError",
     "evalue": "Exception encountered when calling Sequential.call().\n\n\u001b[1mCannot take the length of shape with unknown rank.\u001b[0m\n\nArguments received by Sequential.call():\n  • inputs=tf.Tensor(shape=<unknown>, dtype=int32)\n  • training=False\n  • mask=None",
     "output_type": "error",
     "traceback": [
      "\u001b[31m---------------------------------------------------------------------------\u001b[39m",
      "\u001b[31mValueError\u001b[39m                                Traceback (most recent call last)",
      "\u001b[36mCell\u001b[39m\u001b[36m \u001b[39m\u001b[32mIn[13]\u001b[39m\u001b[32m, line 1\u001b[39m\n\u001b[32m----> \u001b[39m\u001b[32m1\u001b[39m \u001b[43mmodel\u001b[49m\u001b[43m.\u001b[49m\u001b[43mpredict\u001b[49m\u001b[43m(\u001b[49m\u001b[43membedded_docs\u001b[49m\u001b[43m[\u001b[49m\u001b[32;43m0\u001b[39;49m\u001b[43m]\u001b[49m\u001b[43m)\u001b[49m\n",
      "\u001b[36mFile \u001b[39m\u001b[32md:\\PROJECTS\\Simple-Rnn (IMDB)\\myvenv\\Lib\\site-packages\\keras\\src\\utils\\traceback_utils.py:122\u001b[39m, in \u001b[36mfilter_traceback.<locals>.error_handler\u001b[39m\u001b[34m(*args, **kwargs)\u001b[39m\n\u001b[32m    119\u001b[39m     filtered_tb = _process_traceback_frames(e.__traceback__)\n\u001b[32m    120\u001b[39m     \u001b[38;5;66;03m# To get the full stack trace, call:\u001b[39;00m\n\u001b[32m    121\u001b[39m     \u001b[38;5;66;03m# `keras.config.disable_traceback_filtering()`\u001b[39;00m\n\u001b[32m--> \u001b[39m\u001b[32m122\u001b[39m     \u001b[38;5;28;01mraise\u001b[39;00m e.with_traceback(filtered_tb) \u001b[38;5;28;01mfrom\u001b[39;00m\u001b[38;5;250m \u001b[39m\u001b[38;5;28;01mNone\u001b[39;00m\n\u001b[32m    123\u001b[39m \u001b[38;5;28;01mfinally\u001b[39;00m:\n\u001b[32m    124\u001b[39m     \u001b[38;5;28;01mdel\u001b[39;00m filtered_tb\n",
      "\u001b[36mFile \u001b[39m\u001b[32md:\\PROJECTS\\Simple-Rnn (IMDB)\\myvenv\\Lib\\site-packages\\keras\\src\\utils\\traceback_utils.py:122\u001b[39m, in \u001b[36mfilter_traceback.<locals>.error_handler\u001b[39m\u001b[34m(*args, **kwargs)\u001b[39m\n\u001b[32m    119\u001b[39m     filtered_tb = _process_traceback_frames(e.__traceback__)\n\u001b[32m    120\u001b[39m     \u001b[38;5;66;03m# To get the full stack trace, call:\u001b[39;00m\n\u001b[32m    121\u001b[39m     \u001b[38;5;66;03m# `keras.config.disable_traceback_filtering()`\u001b[39;00m\n\u001b[32m--> \u001b[39m\u001b[32m122\u001b[39m     \u001b[38;5;28;01mraise\u001b[39;00m e.with_traceback(filtered_tb) \u001b[38;5;28;01mfrom\u001b[39;00m\u001b[38;5;250m \u001b[39m\u001b[38;5;28;01mNone\u001b[39;00m\n\u001b[32m    123\u001b[39m \u001b[38;5;28;01mfinally\u001b[39;00m:\n\u001b[32m    124\u001b[39m     \u001b[38;5;28;01mdel\u001b[39;00m filtered_tb\n",
      "\u001b[31mValueError\u001b[39m: Exception encountered when calling Sequential.call().\n\n\u001b[1mCannot take the length of shape with unknown rank.\u001b[0m\n\nArguments received by Sequential.call():\n  • inputs=tf.Tensor(shape=<unknown>, dtype=int32)\n  • training=False\n  • mask=None"
     ]
    }
   ],
   "source": []
  },
  {
   "cell_type": "code",
   "execution_count": null,
   "metadata": {},
   "outputs": [],
   "source": []
  },
  {
   "cell_type": "code",
   "execution_count": null,
   "metadata": {},
   "outputs": [],
   "source": []
  },
  {
   "cell_type": "code",
   "execution_count": null,
   "metadata": {},
   "outputs": [],
   "source": []
  },
  {
   "cell_type": "code",
   "execution_count": null,
   "metadata": {},
   "outputs": [],
   "source": []
  },
  {
   "cell_type": "code",
   "execution_count": null,
   "metadata": {},
   "outputs": [],
   "source": []
  }
 ],
 "metadata": {
  "kernelspec": {
   "display_name": "myvenv",
   "language": "python",
   "name": "python3"
  },
  "language_info": {
   "codemirror_mode": {
    "name": "ipython",
    "version": 3
   },
   "file_extension": ".py",
   "mimetype": "text/x-python",
   "name": "python",
   "nbconvert_exporter": "python",
   "pygments_lexer": "ipython3",
   "version": "3.12.0"
  }
 },
 "nbformat": 4,
 "nbformat_minor": 2
}
