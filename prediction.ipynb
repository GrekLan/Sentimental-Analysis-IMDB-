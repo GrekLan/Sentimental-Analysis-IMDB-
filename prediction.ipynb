{
 "cells": [
  {
   "cell_type": "code",
   "execution_count": 1,
   "metadata": {},
   "outputs": [],
   "source": [
    "# Step 1: Import Libraries and Load the Model\n",
    "import numpy as np\n",
    "import tensorflow as tf\n",
    "from tensorflow.keras.datasets import imdb\n",
    "from tensorflow.keras.preprocessing import sequence\n",
    "from tensorflow.keras.models import load_model"
   ]
  },
  {
   "cell_type": "code",
   "execution_count": 2,
   "metadata": {},
   "outputs": [],
   "source": [
    "\n",
    "# Load the IMDB dataset word index\n",
    "word_index = imdb.get_word_index()\n",
    "reverse_word_index = {value: key for key, value in word_index.items()}"
   ]
  },
  {
   "cell_type": "code",
   "execution_count": 3,
   "metadata": {},
   "outputs": [
    {
     "name": "stderr",
     "output_type": "stream",
     "text": [
      "WARNING:absl:Compiled the loaded model, but the compiled metrics have yet to be built. `model.compile_metrics` will be empty until you train or evaluate the model.\n"
     ]
    },
    {
     "data": {
      "text/html": [
       "<pre style=\"white-space:pre;overflow-x:auto;line-height:normal;font-family:Menlo,'DejaVu Sans Mono',consolas,'Courier New',monospace\"><span style=\"font-weight: bold\">Model: \"sequential\"</span>\n",
       "</pre>\n"
      ],
      "text/plain": [
       "\u001b[1mModel: \"sequential\"\u001b[0m\n"
      ]
     },
     "metadata": {},
     "output_type": "display_data"
    },
    {
     "data": {
      "text/html": [
       "<pre style=\"white-space:pre;overflow-x:auto;line-height:normal;font-family:Menlo,'DejaVu Sans Mono',consolas,'Courier New',monospace\">┏━━━━━━━━━━━━━━━━━━━━━━━━━━━━━━━━━┳━━━━━━━━━━━━━━━━━━━━━━━━┳━━━━━━━━━━━━━━━┓\n",
       "┃<span style=\"font-weight: bold\"> Layer (type)                    </span>┃<span style=\"font-weight: bold\"> Output Shape           </span>┃<span style=\"font-weight: bold\">       Param # </span>┃\n",
       "┡━━━━━━━━━━━━━━━━━━━━━━━━━━━━━━━━━╇━━━━━━━━━━━━━━━━━━━━━━━━╇━━━━━━━━━━━━━━━┩\n",
       "│ embedding (<span style=\"color: #0087ff; text-decoration-color: #0087ff\">Embedding</span>)           │ (<span style=\"color: #00af00; text-decoration-color: #00af00\">32</span>, <span style=\"color: #00af00; text-decoration-color: #00af00\">500</span>, <span style=\"color: #00af00; text-decoration-color: #00af00\">128</span>)         │     <span style=\"color: #00af00; text-decoration-color: #00af00\">1,280,000</span> │\n",
       "├─────────────────────────────────┼────────────────────────┼───────────────┤\n",
       "│ simple_rnn (<span style=\"color: #0087ff; text-decoration-color: #0087ff\">SimpleRNN</span>)          │ (<span style=\"color: #00af00; text-decoration-color: #00af00\">32</span>, <span style=\"color: #00af00; text-decoration-color: #00af00\">128</span>)              │        <span style=\"color: #00af00; text-decoration-color: #00af00\">32,896</span> │\n",
       "├─────────────────────────────────┼────────────────────────┼───────────────┤\n",
       "│ dense (<span style=\"color: #0087ff; text-decoration-color: #0087ff\">Dense</span>)                   │ (<span style=\"color: #00af00; text-decoration-color: #00af00\">32</span>, <span style=\"color: #00af00; text-decoration-color: #00af00\">1</span>)                │           <span style=\"color: #00af00; text-decoration-color: #00af00\">129</span> │\n",
       "└─────────────────────────────────┴────────────────────────┴───────────────┘\n",
       "</pre>\n"
      ],
      "text/plain": [
       "┏━━━━━━━━━━━━━━━━━━━━━━━━━━━━━━━━━┳━━━━━━━━━━━━━━━━━━━━━━━━┳━━━━━━━━━━━━━━━┓\n",
       "┃\u001b[1m \u001b[0m\u001b[1mLayer (type)                   \u001b[0m\u001b[1m \u001b[0m┃\u001b[1m \u001b[0m\u001b[1mOutput Shape          \u001b[0m\u001b[1m \u001b[0m┃\u001b[1m \u001b[0m\u001b[1m      Param #\u001b[0m\u001b[1m \u001b[0m┃\n",
       "┡━━━━━━━━━━━━━━━━━━━━━━━━━━━━━━━━━╇━━━━━━━━━━━━━━━━━━━━━━━━╇━━━━━━━━━━━━━━━┩\n",
       "│ embedding (\u001b[38;5;33mEmbedding\u001b[0m)           │ (\u001b[38;5;34m32\u001b[0m, \u001b[38;5;34m500\u001b[0m, \u001b[38;5;34m128\u001b[0m)         │     \u001b[38;5;34m1,280,000\u001b[0m │\n",
       "├─────────────────────────────────┼────────────────────────┼───────────────┤\n",
       "│ simple_rnn (\u001b[38;5;33mSimpleRNN\u001b[0m)          │ (\u001b[38;5;34m32\u001b[0m, \u001b[38;5;34m128\u001b[0m)              │        \u001b[38;5;34m32,896\u001b[0m │\n",
       "├─────────────────────────────────┼────────────────────────┼───────────────┤\n",
       "│ dense (\u001b[38;5;33mDense\u001b[0m)                   │ (\u001b[38;5;34m32\u001b[0m, \u001b[38;5;34m1\u001b[0m)                │           \u001b[38;5;34m129\u001b[0m │\n",
       "└─────────────────────────────────┴────────────────────────┴───────────────┘\n"
      ]
     },
     "metadata": {},
     "output_type": "display_data"
    },
    {
     "data": {
      "text/html": [
       "<pre style=\"white-space:pre;overflow-x:auto;line-height:normal;font-family:Menlo,'DejaVu Sans Mono',consolas,'Courier New',monospace\"><span style=\"font-weight: bold\"> Total params: </span><span style=\"color: #00af00; text-decoration-color: #00af00\">1,313,027</span> (5.01 MB)\n",
       "</pre>\n"
      ],
      "text/plain": [
       "\u001b[1m Total params: \u001b[0m\u001b[38;5;34m1,313,027\u001b[0m (5.01 MB)\n"
      ]
     },
     "metadata": {},
     "output_type": "display_data"
    },
    {
     "data": {
      "text/html": [
       "<pre style=\"white-space:pre;overflow-x:auto;line-height:normal;font-family:Menlo,'DejaVu Sans Mono',consolas,'Courier New',monospace\"><span style=\"font-weight: bold\"> Trainable params: </span><span style=\"color: #00af00; text-decoration-color: #00af00\">1,313,025</span> (5.01 MB)\n",
       "</pre>\n"
      ],
      "text/plain": [
       "\u001b[1m Trainable params: \u001b[0m\u001b[38;5;34m1,313,025\u001b[0m (5.01 MB)\n"
      ]
     },
     "metadata": {},
     "output_type": "display_data"
    },
    {
     "data": {
      "text/html": [
       "<pre style=\"white-space:pre;overflow-x:auto;line-height:normal;font-family:Menlo,'DejaVu Sans Mono',consolas,'Courier New',monospace\"><span style=\"font-weight: bold\"> Non-trainable params: </span><span style=\"color: #00af00; text-decoration-color: #00af00\">0</span> (0.00 B)\n",
       "</pre>\n"
      ],
      "text/plain": [
       "\u001b[1m Non-trainable params: \u001b[0m\u001b[38;5;34m0\u001b[0m (0.00 B)\n"
      ]
     },
     "metadata": {},
     "output_type": "display_data"
    },
    {
     "data": {
      "text/html": [
       "<pre style=\"white-space:pre;overflow-x:auto;line-height:normal;font-family:Menlo,'DejaVu Sans Mono',consolas,'Courier New',monospace\"><span style=\"font-weight: bold\"> Optimizer params: </span><span style=\"color: #00af00; text-decoration-color: #00af00\">2</span> (12.00 B)\n",
       "</pre>\n"
      ],
      "text/plain": [
       "\u001b[1m Optimizer params: \u001b[0m\u001b[38;5;34m2\u001b[0m (12.00 B)\n"
      ]
     },
     "metadata": {},
     "output_type": "display_data"
    }
   ],
   "source": [
    "# Load the pre-trained model with ReLU activation\n",
    "model = load_model('simple_rnn_imdb.h5')\n",
    "model.summary()"
   ]
  },
  {
   "cell_type": "code",
   "execution_count": 4,
   "metadata": {},
   "outputs": [
    {
     "data": {
      "text/plain": [
       "[array([[-0.6189827 , -0.34459803, -0.6700479 , ..., -0.5170303 ,\n",
       "          0.4772263 , -0.3858261 ],\n",
       "        [ 0.03710782, -0.05333269,  0.07908035, ...,  0.02996088,\n",
       "         -0.053228  , -0.00228551],\n",
       "        [ 0.12631619,  0.03202717,  0.02928918, ...,  0.11086769,\n",
       "         -0.04230289, -0.02314756],\n",
       "        ...,\n",
       "        [ 0.09646202,  0.08033345,  0.09311398, ...,  0.13259663,\n",
       "         -0.12971525, -0.04862652],\n",
       "        [ 0.00246329, -0.0176472 ,  0.03059084, ..., -0.0568198 ,\n",
       "         -0.02537108,  0.00085344],\n",
       "        [ 0.05260741,  0.05327909,  0.09345995, ...,  0.05492294,\n",
       "         -0.05702993, -0.04466983]], dtype=float32),\n",
       " array([[-0.05119574, -0.02853316,  0.18078963, ..., -0.07116868,\n",
       "         -0.07320141,  0.1273956 ],\n",
       "        [-0.03998186, -0.1494024 ,  0.02184613, ..., -0.11353666,\n",
       "         -0.00710771, -0.02040671],\n",
       "        [ 0.02658652,  0.00667747, -0.11672717, ...,  0.03335591,\n",
       "         -0.07926355, -0.12875667],\n",
       "        ...,\n",
       "        [ 0.15078512,  0.14223614, -0.05476969, ...,  0.09474471,\n",
       "          0.1673998 , -0.02517014],\n",
       "        [-0.11446468,  0.10065096,  0.06418288, ...,  0.11283447,\n",
       "         -0.19638833,  0.12317567],\n",
       "        [ 0.00315415,  0.11112758, -0.06763665, ...,  0.15483129,\n",
       "          0.13759342, -0.05498989]], dtype=float32),\n",
       " array([[ 0.02455885, -0.02041817,  0.09891964, ..., -0.13569736,\n",
       "         -0.04519154,  0.07465132],\n",
       "        [ 0.04626648,  0.01903923,  0.10150237, ..., -0.05505677,\n",
       "         -0.0157543 , -0.08723052],\n",
       "        [-0.04288087,  0.05328792,  0.01852107, ...,  0.06055569,\n",
       "          0.05619321, -0.04938399],\n",
       "        ...,\n",
       "        [-0.00420224, -0.13532792,  0.03201496, ...,  0.03887513,\n",
       "          0.05218267,  0.04528216],\n",
       "        [ 0.00473565, -0.09349712,  0.09539078, ..., -0.05298435,\n",
       "          0.02047834,  0.07121831],\n",
       "        [ 0.24347125,  0.04844691, -0.1543321 , ..., -0.00732923,\n",
       "          0.17164925,  0.04256744]], dtype=float32),\n",
       " array([-0.04826786, -0.00751428, -0.00079084,  0.00168837, -0.00799683,\n",
       "         0.03592715, -0.01899045, -0.02918469, -0.00465863,  0.0074338 ,\n",
       "         0.01213722,  0.00535952,  0.00497851, -0.0370636 ,  0.02434245,\n",
       "         0.02187326, -0.00020185,  0.01665935, -0.03774039, -0.0025838 ,\n",
       "         0.00762729, -0.02840413, -0.02660481, -0.02024685,  0.0236971 ,\n",
       "         0.00988398, -0.03322705, -0.01452297,  0.01613851, -0.00097035,\n",
       "        -0.01673389, -0.03493804,  0.03070736,  0.03231531, -0.02955248,\n",
       "        -0.02737008, -0.00168301,  0.00377147, -0.01911478, -0.03347021,\n",
       "         0.00365392,  0.0472174 ,  0.03422155,  0.00357664, -0.0415501 ,\n",
       "         0.00614686, -0.01420084, -0.01538689, -0.02139575,  0.00066338,\n",
       "         0.04262254, -0.0306221 ,  0.01228047, -0.01355319, -0.00572047,\n",
       "         0.01057429,  0.0109203 , -0.00259542, -0.00387637, -0.00549428,\n",
       "        -0.0312488 ,  0.07485874, -0.00804112, -0.00827444, -0.03161538,\n",
       "         0.02062351,  0.04885512, -0.0167393 ,  0.02141531, -0.00711294,\n",
       "         0.03431031,  0.00922942, -0.00828726, -0.01268558,  0.01847682,\n",
       "         0.03827098,  0.01216644, -0.02496473, -0.00824605, -0.00121135,\n",
       "         0.03256542, -0.02876724,  0.00733128,  0.01764779,  0.03035897,\n",
       "        -0.01964237,  0.01253526, -0.02533365, -0.03984715,  0.001457  ,\n",
       "         0.0087788 , -0.00455626, -0.01463398, -0.021167  ,  0.0205463 ,\n",
       "         0.00124511, -0.03033238,  0.01794143, -0.01011375, -0.01877838,\n",
       "         0.00833706, -0.05274982,  0.01010199, -0.03811145,  0.04554633,\n",
       "        -0.01457608,  0.02652737,  0.0421767 , -0.01996983, -0.02213418,\n",
       "         0.01995058,  0.03619634, -0.02649623, -0.00557104, -0.03180081,\n",
       "        -0.02941467,  0.04771881,  0.01164314,  0.02812082, -0.00288575,\n",
       "        -0.00155459,  0.0177597 ,  0.02867185, -0.04048113, -0.03535439,\n",
       "        -0.0454579 ,  0.03248334, -0.03387896], dtype=float32),\n",
       " array([[ 1.11569144e-01],\n",
       "        [ 1.29665416e-02],\n",
       "        [ 8.06609076e-03],\n",
       "        [-8.67860913e-02],\n",
       "        [-8.49000439e-02],\n",
       "        [ 5.48886545e-02],\n",
       "        [-9.49911252e-02],\n",
       "        [-1.79352045e-01],\n",
       "        [-2.69158483e-02],\n",
       "        [ 1.24545038e-01],\n",
       "        [-2.17633367e-01],\n",
       "        [ 1.46345541e-01],\n",
       "        [ 1.16803892e-01],\n",
       "        [-7.76947141e-02],\n",
       "        [ 1.29650071e-01],\n",
       "        [-1.53480604e-01],\n",
       "        [ 4.71946783e-02],\n",
       "        [-1.99560225e-01],\n",
       "        [ 1.01734072e-01],\n",
       "        [ 5.38521372e-02],\n",
       "        [ 8.29565674e-02],\n",
       "        [-1.23505719e-01],\n",
       "        [ 2.34302163e-01],\n",
       "        [-1.44983143e-01],\n",
       "        [-1.40154034e-01],\n",
       "        [-7.53988564e-01],\n",
       "        [-4.49513495e-01],\n",
       "        [-6.49361461e-02],\n",
       "        [ 4.17913720e-02],\n",
       "        [-3.99279818e-02],\n",
       "        [ 2.53671944e-01],\n",
       "        [-1.00433238e-01],\n",
       "        [ 1.84869215e-01],\n",
       "        [ 1.38001040e-01],\n",
       "        [-1.10376641e-01],\n",
       "        [-1.81330517e-01],\n",
       "        [-2.67335743e-01],\n",
       "        [-2.28836626e-01],\n",
       "        [-2.33987316e-01],\n",
       "        [ 5.86188100e-02],\n",
       "        [-1.37659371e-01],\n",
       "        [ 1.27225325e-01],\n",
       "        [-7.07779313e-04],\n",
       "        [-1.04383595e-01],\n",
       "        [-1.48535848e-01],\n",
       "        [ 1.95666850e-01],\n",
       "        [-3.45439672e-01],\n",
       "        [ 1.40472189e-01],\n",
       "        [-1.15625359e-01],\n",
       "        [ 5.60003743e-02],\n",
       "        [ 1.14036307e-01],\n",
       "        [-4.81511503e-02],\n",
       "        [ 7.08183348e-02],\n",
       "        [-1.69622764e-01],\n",
       "        [ 7.64136389e-02],\n",
       "        [-4.82282877e-01],\n",
       "        [-2.47142524e-01],\n",
       "        [-1.45666048e-01],\n",
       "        [-1.48388878e-01],\n",
       "        [-1.29290372e-01],\n",
       "        [-1.03784487e-01],\n",
       "        [-3.18045676e-01],\n",
       "        [-1.42760903e-01],\n",
       "        [-8.67300332e-02],\n",
       "        [ 5.45367971e-02],\n",
       "        [-3.47661644e-01],\n",
       "        [ 1.46764621e-01],\n",
       "        [-7.07701594e-02],\n",
       "        [-2.23292351e-01],\n",
       "        [ 4.63090744e-03],\n",
       "        [ 6.66677877e-02],\n",
       "        [-2.58462280e-01],\n",
       "        [-5.19242045e-03],\n",
       "        [ 1.34249255e-01],\n",
       "        [-4.68523204e-02],\n",
       "        [ 6.76501617e-02],\n",
       "        [ 1.22228391e-01],\n",
       "        [-5.27882129e-02],\n",
       "        [-3.02228294e-02],\n",
       "        [ 9.46909934e-02],\n",
       "        [ 1.12595879e-01],\n",
       "        [-2.93759052e-02],\n",
       "        [ 1.70854554e-01],\n",
       "        [-1.85232349e-02],\n",
       "        [-3.78911830e-02],\n",
       "        [-2.01385528e-01],\n",
       "        [-1.19553894e-01],\n",
       "        [ 9.62097347e-02],\n",
       "        [-8.74097925e-03],\n",
       "        [-1.61489859e-01],\n",
       "        [-1.73914105e-01],\n",
       "        [-1.03880301e-01],\n",
       "        [ 2.06556264e-02],\n",
       "        [-1.71876982e-01],\n",
       "        [-5.88014536e-02],\n",
       "        [ 2.06643105e-01],\n",
       "        [ 6.15927540e-02],\n",
       "        [ 2.01925874e-01],\n",
       "        [-1.64374575e-01],\n",
       "        [-1.56092569e-01],\n",
       "        [ 8.27270299e-02],\n",
       "        [ 5.13897240e-01],\n",
       "        [ 1.69136986e-01],\n",
       "        [-1.22796550e-01],\n",
       "        [ 8.70725587e-02],\n",
       "        [ 1.90185517e-01],\n",
       "        [-1.93099901e-01],\n",
       "        [ 1.17343873e-01],\n",
       "        [ 3.59787457e-02],\n",
       "        [ 1.30489841e-02],\n",
       "        [ 2.01381132e-01],\n",
       "        [-1.47979811e-01],\n",
       "        [ 6.49532899e-02],\n",
       "        [-7.69698396e-02],\n",
       "        [ 1.85053438e-01],\n",
       "        [ 1.53922409e-01],\n",
       "        [ 1.00699775e-01],\n",
       "        [ 1.74858257e-01],\n",
       "        [ 1.77645490e-01],\n",
       "        [-6.49836510e-02],\n",
       "        [ 1.88180983e-01],\n",
       "        [-2.21307322e-01],\n",
       "        [ 6.39960617e-02],\n",
       "        [-9.13875774e-02],\n",
       "        [-1.13807291e-01],\n",
       "        [ 1.65647343e-01],\n",
       "        [-1.99708089e-01],\n",
       "        [-5.32073341e-02]], dtype=float32),\n",
       " array([-0.56638664], dtype=float32)]"
      ]
     },
     "execution_count": 4,
     "metadata": {},
     "output_type": "execute_result"
    }
   ],
   "source": [
    "model.get_weights()"
   ]
  },
  {
   "cell_type": "code",
   "execution_count": 5,
   "metadata": {},
   "outputs": [],
   "source": [
    "# Step 2: Helper Functions\n",
    "# Function to decode reviews\n",
    "def decode_review(encoded_review):\n",
    "    return ' '.join([reverse_word_index.get(i - 3, '?') for i in encoded_review])\n",
    "\n",
    "# Function to preprocess user input\n",
    "def preprocess_text(text):\n",
    "    words = text.lower().split()\n",
    "    encoded_review = [word_index.get(word, 2) + 3 for word in words]\n",
    "    padded_review = sequence.pad_sequences([encoded_review], maxlen=500)\n",
    "    return padded_review"
   ]
  },
  {
   "cell_type": "code",
   "execution_count": 6,
   "metadata": {},
   "outputs": [],
   "source": [
    "### Prediction  function\n",
    "\n",
    "def predict_sentiment(review):\n",
    "    preprocessed_input=preprocess_text(review)\n",
    "\n",
    "    prediction=model.predict(preprocessed_input)\n",
    "\n",
    "    sentiment = 'Positive' if prediction[0][0] > 0.5 else 'Negative'\n",
    "    \n",
    "    return sentiment, prediction[0][0]\n"
   ]
  },
  {
   "cell_type": "code",
   "execution_count": 11,
   "metadata": {},
   "outputs": [
    {
     "name": "stdout",
     "output_type": "stream",
     "text": [
      "\u001b[1m1/1\u001b[0m \u001b[32m━━━━━━━━━━━━━━━━━━━━\u001b[0m\u001b[37m\u001b[0m \u001b[1m0s\u001b[0m 146ms/step\n",
      "Review: This movie was fantastic! The acting was great and the plot was thrilling.\n",
      "Sentiment: Negative\n",
      "Prediction Score: 0.3846265375614166\n"
     ]
    }
   ],
   "source": [
    "# Step 4: User Input and Prediction\n",
    "# Example review for prediction\n",
    "example_review = \"This movie was fantastic! The acting was great and the plot was thrilling.\"\n",
    "\n",
    "sentiment,score=predict_sentiment(example_review)\n",
    "\n",
    "print(f'Review: {example_review}')\n",
    "print(f'Sentiment: {sentiment}')\n",
    "print(f'Prediction Score: {score}')"
   ]
  },
  {
   "cell_type": "code",
   "execution_count": null,
   "metadata": {},
   "outputs": [],
   "source": []
  },
  {
   "cell_type": "code",
   "execution_count": null,
   "metadata": {},
   "outputs": [],
   "source": []
  },
  {
   "cell_type": "code",
   "execution_count": null,
   "metadata": {},
   "outputs": [],
   "source": []
  },
  {
   "cell_type": "code",
   "execution_count": null,
   "metadata": {},
   "outputs": [],
   "source": []
  },
  {
   "cell_type": "code",
   "execution_count": null,
   "metadata": {},
   "outputs": [],
   "source": []
  },
  {
   "cell_type": "code",
   "execution_count": null,
   "metadata": {},
   "outputs": [],
   "source": []
  }
 ],
 "metadata": {
  "kernelspec": {
   "display_name": "myvenv",
   "language": "python",
   "name": "python3"
  },
  "language_info": {
   "codemirror_mode": {
    "name": "ipython",
    "version": 3
   },
   "file_extension": ".py",
   "mimetype": "text/x-python",
   "name": "python",
   "nbconvert_exporter": "python",
   "pygments_lexer": "ipython3",
   "version": "3.12.0"
  }
 },
 "nbformat": 4,
 "nbformat_minor": 2
}
